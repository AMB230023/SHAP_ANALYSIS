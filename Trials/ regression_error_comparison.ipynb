{
 "cells": [
  {
   "cell_type": "code",
   "execution_count": 8,
   "id": "2fbb2278-447c-42e8-8d6e-b32c2d46ef01",
   "metadata": {},
   "outputs": [
    {
     "name": "stdout",
     "output_type": "stream",
     "text": [
      "XGBoost Mean Scores:\n",
      "MAE     3.915804\n",
      "RMSE    5.011498\n",
      "R²      0.999935\n",
      "dtype: float64\n",
      "Random Forest Mean Scores:\n",
      "MAE     0.871907\n",
      "RMSE    1.113974\n",
      "R²      0.999997\n",
      "dtype: float64\n"
     ]
    }
   ],
   "source": [
    "import numpy as np\n",
    "import pandas as pd\n",
    "from sklearn.model_selection import train_test_split\n",
    "from sklearn.metrics import mean_absolute_error, mean_squared_error, r2_score\n",
    "from sklearn.ensemble import RandomForestRegressor\n",
    "import xgboost as xgb\n",
    "\n",
    "df = pd.read_csv(\"C:/Users/ammar/SHAP_ML/outputs/bearing_rul.csv\")\n",
    "X = df.drop(columns=[\"RUL\", \"filename\"])\n",
    "y = df[\"RUL\"]\n",
    "\n",
    "# === 2. Trial setup ===\n",
    "N_TRIALS = 25\n",
    "xgb_scores = []\n",
    "rf_scores = []\n",
    "\n",
    "# === 3. Run 25 trials ===\n",
    "for i in range(N_TRIALS):\n",
    "    X_train, X_test, y_train, y_test = train_test_split(\n",
    "        X, y, test_size=0.2, random_state=42 + i\n",
    "    )\n",
    "\n",
    "    # XGBoost\n",
    "    xgb_model = xgb.XGBRegressor(n_estimators=100, random_state=42 + i)\n",
    "    xgb_model.fit(X_train, y_train)\n",
    "    y_pred_xgb = xgb_model.predict(X_test)\n",
    "    xgb_scores.append([\n",
    "        mean_absolute_error(y_test, y_pred_xgb),\n",
    "        np.sqrt(mean_squared_error(y_test, y_pred_xgb)),  # RMSE\n",
    "        r2_score(y_test, y_pred_xgb)\n",
    "    ])\n",
    "\n",
    "    # Random Forest\n",
    "    rf_model = RandomForestRegressor(n_estimators=100, random_state=42 + i)\n",
    "    rf_model.fit(X_train, y_train)\n",
    "    y_pred_rf = rf_model.predict(X_test)\n",
    "    rf_scores.append([\n",
    "        mean_absolute_error(y_test, y_pred_rf),\n",
    "        np.sqrt(mean_squared_error(y_test, y_pred_rf)),  # RMSE\n",
    "        r2_score(y_test, y_pred_rf)\n",
    "    ])\n",
    "\n",
    "# === 4. Create DataFrames and Print Mean Results ===\n",
    "metrics = ['MAE', 'RMSE', 'R²']\n",
    "xgb_df = pd.DataFrame(xgb_scores, columns=metrics)\n",
    "rf_df = pd.DataFrame(rf_scores, columns=metrics)\n",
    "\n",
    "print(\"XGBoost Mean Scores:\")\n",
    "print(xgb_df.mean())\n",
    "\n",
    "print(\"Random Forest Mean Scores:\")\n",
    "print(rf_df.mean())"
   ]
  },
  {
   "cell_type": "code",
   "execution_count": null,
   "id": "01f19a96-ea2b-4ce6-a550-ff8659df70aa",
   "metadata": {},
   "outputs": [],
   "source": []
  }
 ],
 "metadata": {
  "kernelspec": {
   "display_name": "Python [conda env:base] *",
   "language": "python",
   "name": "conda-base-py"
  },
  "language_info": {
   "codemirror_mode": {
    "name": "ipython",
    "version": 3
   },
   "file_extension": ".py",
   "mimetype": "text/x-python",
   "name": "python",
   "nbconvert_exporter": "python",
   "pygments_lexer": "ipython3",
   "version": "3.13.5"
  }
 },
 "nbformat": 4,
 "nbformat_minor": 5
}
