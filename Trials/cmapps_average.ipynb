{
 "cells": [
  {
   "cell_type": "code",
   "execution_count": 2,
   "id": "90fbdcaa-1e82-4175-bc13-7320ccaaf503",
   "metadata": {},
   "outputs": [
    {
     "name": "stdout",
     "output_type": "stream",
     "text": [
      "Running 25 trials on CMAPSS (FD001)...\n",
      "Trial 1/25\n"
     ]
    },
    {
     "name": "stderr",
     "output_type": "stream",
     "text": [
      "100%|===================| 4121/4127 [07:27<00:00]        "
     ]
    },
    {
     "name": "stdout",
     "output_type": "stream",
     "text": [
      "Trial 2/25\n"
     ]
    },
    {
     "name": "stderr",
     "output_type": "stream",
     "text": [
      "100%|===================| 4120/4127 [07:16<00:00]        "
     ]
    },
    {
     "name": "stdout",
     "output_type": "stream",
     "text": [
      "Trial 3/25\n"
     ]
    },
    {
     "name": "stderr",
     "output_type": "stream",
     "text": [
      "100%|===================| 4126/4127 [07:30<00:00]        "
     ]
    },
    {
     "name": "stdout",
     "output_type": "stream",
     "text": [
      "Trial 4/25\n"
     ]
    },
    {
     "name": "stderr",
     "output_type": "stream",
     "text": [
      "100%|===================| 4119/4127 [07:31<00:00]        "
     ]
    },
    {
     "name": "stdout",
     "output_type": "stream",
     "text": [
      "Trial 5/25\n"
     ]
    },
    {
     "name": "stderr",
     "output_type": "stream",
     "text": [
      "100%|===================| 4118/4127 [07:50<00:01]        "
     ]
    },
    {
     "name": "stdout",
     "output_type": "stream",
     "text": [
      "Trial 6/25\n"
     ]
    },
    {
     "name": "stderr",
     "output_type": "stream",
     "text": [
      "100%|===================| 4117/4127 [07:32<00:01]        "
     ]
    },
    {
     "name": "stdout",
     "output_type": "stream",
     "text": [
      "Trial 7/25\n"
     ]
    },
    {
     "name": "stderr",
     "output_type": "stream",
     "text": [
      "100%|===================| 4119/4127 [07:23<00:00]        "
     ]
    },
    {
     "name": "stdout",
     "output_type": "stream",
     "text": [
      "Trial 8/25\n"
     ]
    },
    {
     "name": "stderr",
     "output_type": "stream",
     "text": [
      "100%|===================| 4123/4127 [07:29<00:00]        "
     ]
    },
    {
     "name": "stdout",
     "output_type": "stream",
     "text": [
      "Trial 9/25\n"
     ]
    },
    {
     "name": "stderr",
     "output_type": "stream",
     "text": [
      "100%|===================| 4122/4127 [07:33<00:00]        "
     ]
    },
    {
     "name": "stdout",
     "output_type": "stream",
     "text": [
      "Trial 10/25\n"
     ]
    },
    {
     "name": "stderr",
     "output_type": "stream",
     "text": [
      "100%|===================| 4126/4127 [07:47<00:00]        "
     ]
    },
    {
     "name": "stdout",
     "output_type": "stream",
     "text": [
      "Trial 11/25\n"
     ]
    },
    {
     "name": "stderr",
     "output_type": "stream",
     "text": [
      "100%|===================| 4123/4127 [07:34<00:00]        "
     ]
    },
    {
     "name": "stdout",
     "output_type": "stream",
     "text": [
      "Trial 12/25\n"
     ]
    },
    {
     "name": "stderr",
     "output_type": "stream",
     "text": [
      "100%|===================| 4121/4127 [07:37<00:00]        "
     ]
    },
    {
     "name": "stdout",
     "output_type": "stream",
     "text": [
      "Trial 13/25\n"
     ]
    },
    {
     "name": "stderr",
     "output_type": "stream",
     "text": [
      "100%|===================| 4120/4127 [07:59<00:00]        "
     ]
    },
    {
     "name": "stdout",
     "output_type": "stream",
     "text": [
      "Trial 14/25\n"
     ]
    },
    {
     "name": "stderr",
     "output_type": "stream",
     "text": [
      "100%|===================| 4124/4127 [08:32<00:00]        "
     ]
    },
    {
     "name": "stdout",
     "output_type": "stream",
     "text": [
      "Trial 15/25\n"
     ]
    },
    {
     "name": "stderr",
     "output_type": "stream",
     "text": [
      "100%|===================| 4125/4127 [08:03<00:00]        "
     ]
    },
    {
     "name": "stdout",
     "output_type": "stream",
     "text": [
      "Trial 16/25\n"
     ]
    },
    {
     "name": "stderr",
     "output_type": "stream",
     "text": [
      "100%|===================| 4125/4127 [08:06<00:00]        "
     ]
    },
    {
     "name": "stdout",
     "output_type": "stream",
     "text": [
      "Trial 17/25\n"
     ]
    },
    {
     "name": "stderr",
     "output_type": "stream",
     "text": [
      "100%|===================| 4120/4127 [07:12<00:00]        "
     ]
    },
    {
     "name": "stdout",
     "output_type": "stream",
     "text": [
      "Trial 18/25\n"
     ]
    },
    {
     "name": "stderr",
     "output_type": "stream",
     "text": [
      "100%|===================| 4123/4127 [07:35<00:00]        "
     ]
    },
    {
     "name": "stdout",
     "output_type": "stream",
     "text": [
      "Trial 19/25\n"
     ]
    },
    {
     "name": "stderr",
     "output_type": "stream",
     "text": [
      "100%|===================| 4124/4127 [07:22<00:00]        "
     ]
    },
    {
     "name": "stdout",
     "output_type": "stream",
     "text": [
      "Trial 20/25\n"
     ]
    },
    {
     "name": "stderr",
     "output_type": "stream",
     "text": [
      "100%|===================| 4124/4127 [07:15<00:00]        "
     ]
    },
    {
     "name": "stdout",
     "output_type": "stream",
     "text": [
      "Trial 21/25\n"
     ]
    },
    {
     "name": "stderr",
     "output_type": "stream",
     "text": [
      "100%|===================| 4126/4127 [07:24<00:00]        "
     ]
    },
    {
     "name": "stdout",
     "output_type": "stream",
     "text": [
      "Trial 22/25\n"
     ]
    },
    {
     "name": "stderr",
     "output_type": "stream",
     "text": [
      "100%|===================| 4124/4127 [07:21<00:00]        "
     ]
    },
    {
     "name": "stdout",
     "output_type": "stream",
     "text": [
      "Trial 23/25\n"
     ]
    },
    {
     "name": "stderr",
     "output_type": "stream",
     "text": [
      "100%|===================| 4121/4127 [07:22<00:00]        "
     ]
    },
    {
     "name": "stdout",
     "output_type": "stream",
     "text": [
      "Trial 24/25\n"
     ]
    },
    {
     "name": "stderr",
     "output_type": "stream",
     "text": [
      "100%|===================| 4126/4127 [07:15<00:00]        "
     ]
    },
    {
     "name": "stdout",
     "output_type": "stream",
     "text": [
      "Trial 25/25\n"
     ]
    },
    {
     "name": "stderr",
     "output_type": "stream",
     "text": [
      "100%|===================| 4126/4127 [07:38<00:00]        "
     ]
    },
    {
     "name": "stdout",
     "output_type": "stream",
     "text": [
      "\n",
      "CMAPSS SHAP averaging complete. Results saved.\n"
     ]
    }
   ],
   "source": [
    "# 1. Imports\n",
    "import pandas as pd\n",
    "import numpy as np\n",
    "import shap\n",
    "import joblib\n",
    "import xgboost as xgb\n",
    "from sklearn.ensemble import RandomForestRegressor\n",
    "from sklearn.model_selection import train_test_split\n",
    "import matplotlib.pyplot as plt\n",
    "import os\n",
    "\n",
    "# 2. Load FD001 CMAPSS test set (final-cycle per unit)\n",
    "column_names = ['unit', 'cycle', 'operational_setting_1', 'operational_setting_2', 'operational_setting_3'] + \\\n",
    "               [f'sensor_measurement_{i}' for i in range(1, 22)]\n",
    "\n",
    "df = pd.read_csv('C:/Users/ammar/SHAP_ML/datasets/train_FD001.txt', sep='\\s+', header=None, names=column_names)\n",
    "\n",
    "# Calculate RUL\n",
    "rul = df.groupby('unit')['cycle'].max().reset_index()\n",
    "rul.columns = ['unit', 'max_cycle']\n",
    "df = df.merge(rul, on='unit')\n",
    "df['RUL'] = df['max_cycle'] - df['cycle']\n",
    "df.drop(columns=['max_cycle'], inplace=True)\n",
    "\n",
    "# Drop uninformative features (as used before)\n",
    "drop_cols = ['operational_setting_3', 'sensor_measurement_1', 'sensor_measurement_5',\n",
    "             'sensor_measurement_10', 'sensor_measurement_16', 'sensor_measurement_18',\n",
    "             'sensor_measurement_19']\n",
    "\n",
    "X = df.drop(columns=['unit', 'cycle', 'RUL'] + drop_cols)\n",
    "y = df['RUL']\n",
    "feature_names = X.columns\n",
    "n_features = X.shape[1]\n",
    "\n",
    "# === 3. SHAP averaging setup ===\n",
    "N_TRIALS = 25\n",
    "shap_xgb_matrix = np.zeros((N_TRIALS, n_features))\n",
    "shap_rf_matrix = np.zeros((N_TRIALS, n_features))\n",
    "\n",
    "# Create output directory if needed\n",
    "os.makedirs(\"C:/Users/ammar/SHAP_ML/trials_v/outputs\", exist_ok=True)\n",
    "\n",
    "print(\"Running 25 trials on CMAPSS (FD001)...\")\n",
    "\n",
    "# === 4. Run trials ===\n",
    "for i in range(N_TRIALS):\n",
    "    print(f\"Trial {i+1}/{N_TRIALS}\")\n",
    "    X_train, X_test, y_train, y_test = train_test_split(X, y, test_size=0.2, random_state=100 + i)\n",
    "\n",
    "    # XGBoost\n",
    "    xgb_model = xgb.XGBRegressor()\n",
    "    xgb_model.fit(X_train, y_train)\n",
    "    explainer_xgb = shap.Explainer(xgb_model, X_train)\n",
    "    shap_vals_xgb = explainer_xgb(X_test)\n",
    "    shap_xgb_matrix[i, :] = np.abs(shap_vals_xgb.values).mean(axis=0)\n",
    "\n",
    "    # Random Forest\n",
    "    rf_model = RandomForestRegressor(n_estimators=100, random_state=100 + i)\n",
    "    rf_model.fit(X_train, y_train)\n",
    "    explainer_rf = shap.Explainer(rf_model, X_train)\n",
    "    shap_vals_rf = explainer_rf(X_test, check_additivity=False)\n",
    "    shap_rf_matrix[i, :] = np.abs(shap_vals_rf.values).mean(axis=0)\n",
    "\n",
    "# === 5. Average and save ===\n",
    "xgb_mean = shap_xgb_matrix.mean(axis=0)\n",
    "rf_mean = shap_rf_matrix.mean(axis=0)\n",
    "\n",
    "shap_xgb_df = pd.DataFrame({'feature': feature_names, 'mean_abs_shap': xgb_mean})\n",
    "shap_rf_df = pd.DataFrame({'feature': feature_names, 'mean_abs_shap': rf_mean})\n",
    "\n",
    "shap_xgb_df.sort_values(by='mean_abs_shap', ascending=False).to_csv(\n",
    "    'C:/Users/ammar/SHAP_ML/trials_v/outputs/shap_avg_cmaps_xgb.csv', index=False)\n",
    "shap_rf_df.sort_values(by='mean_abs_shap', ascending=False).to_csv(\n",
    "    'C:/Users/ammar/SHAP_ML/trials_v/outputs/shap_avg_cmaps_rf.csv', index=False)\n",
    "\n",
    "# === 6. Plot Top 10 Features ===\n",
    "def plot_top10(df, model_name):\n",
    "    top10 = df.sort_values(by='mean_abs_shap', ascending=False).head(10)\n",
    "    plt.figure(figsize=(10, 5))\n",
    "    plt.barh(top10['feature'][::-1], top10['mean_abs_shap'][::-1])\n",
    "    plt.xlabel('Mean |SHAP value|')\n",
    "    plt.title(f'CMAPSS (FD001) - Top 10 Features ({model_name})')\n",
    "    plt.tight_layout()\n",
    "    plt.savefig(f\"C:/Users/ammar/SHAP_ML/trials_v/top10_cmaps_{model_name.lower()}.png\", dpi=300)\n",
    "    plt.close()\n",
    "\n",
    "plot_top10(shap_xgb_df, \"XGBoost\")\n",
    "plot_top10(shap_rf_df, \"RandomForest\")\n",
    "\n",
    "print(\"\\nCMAPSS SHAP averaging complete. Results saved.\")"
   ]
  },
  {
   "cell_type": "code",
   "execution_count": null,
   "id": "a0be0cf4-c1c5-432c-90de-5dc940ece0fa",
   "metadata": {},
   "outputs": [],
   "source": []
  }
 ],
 "metadata": {
  "kernelspec": {
   "display_name": "Python [conda env:base] *",
   "language": "python",
   "name": "conda-base-py"
  },
  "language_info": {
   "codemirror_mode": {
    "name": "ipython",
    "version": 3
   },
   "file_extension": ".py",
   "mimetype": "text/x-python",
   "name": "python",
   "nbconvert_exporter": "python",
   "pygments_lexer": "ipython3",
   "version": "3.13.5"
  }
 },
 "nbformat": 4,
 "nbformat_minor": 5
}
