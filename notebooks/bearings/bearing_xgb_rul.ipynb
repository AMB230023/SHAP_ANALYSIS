{
 "cells": [
  {
   "cell_type": "code",
   "execution_count": 2,
   "id": "31bf7d26-2f5b-4015-94b6-b7abb429bcd8",
   "metadata": {},
   "outputs": [
    {
     "name": "stdout",
     "output_type": "stream",
     "text": [
      "XGBoost RUL Prediction Performance:\n",
      "  RMSE: 3.43\n",
      "  MAE:  2.90\n",
      "  R²:   1.000\n",
      "Model saved to xgb_rul_bearing.pkl\n"
     ]
    }
   ],
   "source": [
    "# bearing_xgb_rul.ipynb\n",
    "\n",
    "import pandas as pd\n",
    "import numpy as np\n",
    "from xgboost import XGBRegressor\n",
    "from sklearn.model_selection import train_test_split\n",
    "from sklearn.metrics import mean_squared_error, mean_absolute_error, r2_score\n",
    "import joblib\n",
    "\n",
    "# === Load Data ===\n",
    "df = pd.read_csv(\"C:/Users/ammar/SHAP_ML/outputs/bearing_rul.csv\")\n",
    "X = df.drop(columns=[\"RUL\", \"filename\"])\n",
    "y = df[\"RUL\"]\n",
    "\n",
    "# === Train/Test Split ===\n",
    "X_train, X_test, y_train, y_test = train_test_split(\n",
    "    X, y, test_size=0.2, random_state=42\n",
    ")\n",
    "\n",
    "# === Train XGBoost Regressor ===\n",
    "xgb = XGBRegressor(n_estimators=100, max_depth=4, learning_rate=0.1, random_state=42)\n",
    "xgb.fit(X_train, y_train)\n",
    "\n",
    "# === Predict and Evaluate ===\n",
    "y_pred = xgb.predict(X_test)\n",
    "\n",
    "rmse = np.sqrt(mean_squared_error(y_test, y_pred))\n",
    "mae = mean_absolute_error(y_test, y_pred)\n",
    "r2 = r2_score(y_test, y_pred)\n",
    "\n",
    "print(\"XGBoost RUL Prediction Performance:\")\n",
    "print(f\"  RMSE: {rmse:.2f}\")\n",
    "print(f\"  MAE:  {mae:.2f}\")\n",
    "print(f\"  R²:   {r2:.3f}\")\n",
    "\n",
    "# === Save Model ===\n",
    "joblib.dump(xgb, \"C:/Users/ammar/SHAP_ML/models/xgb_rul_bearing.pkl\")\n",
    "print(\"Model saved to xgb_rul_bearing.pkl\")"
   ]
  },
  {
   "cell_type": "code",
   "execution_count": null,
   "id": "580443e9-bed3-4998-89cd-fabcb2efbd26",
   "metadata": {},
   "outputs": [],
   "source": []
  }
 ],
 "metadata": {
  "kernelspec": {
   "display_name": "Python [conda env:base] *",
   "language": "python",
   "name": "conda-base-py"
  },
  "language_info": {
   "codemirror_mode": {
    "name": "ipython",
    "version": 3
   },
   "file_extension": ".py",
   "mimetype": "text/x-python",
   "name": "python",
   "nbconvert_exporter": "python",
   "pygments_lexer": "ipython3",
   "version": "3.13.5"
  }
 },
 "nbformat": 4,
 "nbformat_minor": 5
}
