{
 "cells": [
  {
   "cell_type": "code",
   "execution_count": 1,
   "id": "27a35c3b-f9c3-4778-8256-b8b7f42fbe53",
   "metadata": {},
   "outputs": [
    {
     "name": "stdout",
     "output_type": "stream",
     "text": [
      "Random Forest RUL Prediction Performance:\n",
      "  RMSE: 1.12\n",
      "  MAE:  0.89\n",
      "  R²:   1.000\n",
      "Model saved to rf_rul_bearing.pkl\n"
     ]
    }
   ],
   "source": [
    "# bearing_rf_rul.ipynb\n",
    "\n",
    "import pandas as pd\n",
    "import numpy as np\n",
    "from sklearn.ensemble import RandomForestRegressor\n",
    "from sklearn.model_selection import train_test_split\n",
    "from sklearn.metrics import mean_squared_error, mean_absolute_error, r2_score\n",
    "import joblib\n",
    "\n",
    "# === Load Data ===\n",
    "df = pd.read_csv(\"C:/Users/ammar/SHAP_ML/outputs/bearing_rul.csv\")\n",
    "X = df.drop(columns=[\"RUL\", \"filename\"])\n",
    "y = df[\"RUL\"]\n",
    "\n",
    "# === Train/Test Split ===\n",
    "X_train, X_test, y_train, y_test = train_test_split(\n",
    "    X, y, test_size=0.2, random_state=42\n",
    ")\n",
    "\n",
    "# === Train Random Forest Regressor ===\n",
    "rf = RandomForestRegressor(n_estimators=100, max_depth=None, random_state=42)\n",
    "rf.fit(X_train, y_train)\n",
    "\n",
    "# === Predict and Evaluate ===\n",
    "y_pred = rf.predict(X_test)\n",
    "\n",
    "rmse = np.sqrt(mean_squared_error(y_test, y_pred))\n",
    "mae = mean_absolute_error(y_test, y_pred)\n",
    "r2 = r2_score(y_test, y_pred)\n",
    "\n",
    "print(\"Random Forest RUL Prediction Performance:\")\n",
    "print(f\"  RMSE: {rmse:.2f}\")\n",
    "print(f\"  MAE:  {mae:.2f}\")\n",
    "print(f\"  R²:   {r2:.3f}\")\n",
    "\n",
    "# === Save Model ===\n",
    "joblib.dump(rf, \"C:/Users/ammar/SHAP_ML/models/rf_rul_bearing.pkl\")\n",
    "print(\"Model saved to rf_rul_bearing.pkl\")"
   ]
  },
  {
   "cell_type": "code",
   "execution_count": null,
   "id": "6bcad260-9958-453a-a1a1-f5e33e8d2d45",
   "metadata": {},
   "outputs": [],
   "source": []
  }
 ],
 "metadata": {
  "kernelspec": {
   "display_name": "Python [conda env:base] *",
   "language": "python",
   "name": "conda-base-py"
  },
  "language_info": {
   "codemirror_mode": {
    "name": "ipython",
    "version": 3
   },
   "file_extension": ".py",
   "mimetype": "text/x-python",
   "name": "python",
   "nbconvert_exporter": "python",
   "pygments_lexer": "ipython3",
   "version": "3.13.5"
  }
 },
 "nbformat": 4,
 "nbformat_minor": 5
}
