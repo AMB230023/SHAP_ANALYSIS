{
 "cells": [
  {
   "cell_type": "code",
   "execution_count": 7,
   "id": "a38bee67-70d2-47ca-ba7d-16996fc0aaa7",
   "metadata": {
    "editable": true,
    "slideshow": {
     "slide_type": ""
    },
    "tags": []
   },
   "outputs": [
    {
     "name": "stdout",
     "output_type": "stream",
     "text": [
      "              precision    recall  f1-score   support\n",
      "\n",
      "           0       0.93      0.99      0.95       290\n",
      "           1       0.20      0.04      0.07        24\n",
      "\n",
      "    accuracy                           0.91       314\n",
      "   macro avg       0.56      0.51      0.51       314\n",
      "weighted avg       0.87      0.91      0.89       314\n",
      "\n"
     ]
    },
    {
     "data": {
      "text/plain": [
       "['C:/Users/ammar/SHAP_ML/models/secom_xgboost.pkl']"
      ]
     },
     "execution_count": 7,
     "metadata": {},
     "output_type": "execute_result"
    }
   ],
   "source": [
    "# 1. Imports\n",
    "import pandas as pd\n",
    "from sklearn.model_selection import train_test_split\n",
    "from sklearn.metrics import classification_report\n",
    "import xgboost as xgb\n",
    "\n",
    "# 2. Load data\n",
    "df_data = pd.read_csv('C:/Users/ammar/SHAP_ML/datasets/secom.data', sep=' ', header=None)\n",
    "df_labels = pd.read_csv('C:/Users/ammar/SHAP_ML/datasets/secom_labels.data', sep=' ', header=None)\n",
    "df_data.columns = [f'feature_{i}' for i in range(df_data.shape[1])]\n",
    "df_data['label'] = df_labels[0]\n",
    "\n",
    "# 3. Clean data\n",
    "missing = df_data.isna().sum()\n",
    "df_clean = df_data.loc[:, missing < df_data.shape[0] * 0.5].copy()\n",
    "df_clean = df_clean.fillna(df_clean.mean())\n",
    "\n",
    "# 4. Prepare features and labels\n",
    "X = df_clean.drop(columns=['label'])\n",
    "y = df_clean['label'].replace(-1, 0)\n",
    "\n",
    "# 5. Train/test split\n",
    "X_train, X_test, y_train, y_test = train_test_split(X, y, test_size=0.2, random_state=42)\n",
    "\n",
    "# 6. Train XGBoost model\n",
    "scale_pos_weight = (y_train == 0).sum() / (y_train == 1).sum()\n",
    "xgb_model = xgb.XGBClassifier(\n",
    "    n_estimators=100,\n",
    "    random_state=42,\n",
    "    scale_pos_weight=scale_pos_weight,\n",
    "    eval_metric='logloss'\n",
    ")\n",
    "xgb_model.fit(X_train, y_train)\n",
    "\n",
    "# 7. Evaluation\n",
    "y_pred = xgb_model.predict(X_test)\n",
    "print(classification_report(y_test, y_pred))\n",
    "\n",
    "# 8. Save model (optional)\n",
    "import joblib\n",
    "joblib.dump(xgb_model, 'C:/Users/ammar/SHAP_ML/models/secom_xgboost.pkl')"
   ]
  },
  {
   "cell_type": "code",
   "execution_count": null,
   "id": "56c59953-1f22-4b89-af2d-7b2dd8328c6b",
   "metadata": {},
   "outputs": [],
   "source": []
  }
 ],
 "metadata": {
  "kernelspec": {
   "display_name": "Python [conda env:base] *",
   "language": "python",
   "name": "conda-base-py"
  },
  "language_info": {
   "codemirror_mode": {
    "name": "ipython",
    "version": 3
   },
   "file_extension": ".py",
   "mimetype": "text/x-python",
   "name": "python",
   "nbconvert_exporter": "python",
   "pygments_lexer": "ipython3",
   "version": "3.13.5"
  }
 },
 "nbformat": 4,
 "nbformat_minor": 5
}
