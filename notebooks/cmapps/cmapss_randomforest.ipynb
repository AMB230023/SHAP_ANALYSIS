{
 "cells": [
  {
   "cell_type": "code",
   "execution_count": 1,
   "id": "3a5f8ad2-8fd4-4b3c-ad67-b94ae7ac9d07",
   "metadata": {
    "editable": true,
    "slideshow": {
     "slide_type": ""
    },
    "tags": []
   },
   "outputs": [
    {
     "name": "stdout",
     "output_type": "stream",
     "text": [
      "MAE: 26.011692874692876\n",
      "RMSE: 35.56578029421143\n",
      "R² Score: 0.7065257451592782\n"
     ]
    },
    {
     "data": {
      "text/plain": [
       "['C:/Users/ammar/SHAP_ML/models/cmaps_randomforest.pkl']"
      ]
     },
     "execution_count": 1,
     "metadata": {},
     "output_type": "execute_result"
    }
   ],
   "source": [
    "# 1. Imports\n",
    "import pandas as pd\n",
    "import numpy as np\n",
    "from sklearn.model_selection import train_test_split\n",
    "from sklearn.ensemble import RandomForestRegressor\n",
    "from sklearn.metrics import mean_squared_error, mean_absolute_error, r2_score\n",
    "import joblib\n",
    "\n",
    "# 2. Load CMAPSS FD001 data\n",
    "column_names = [\n",
    "    'unit', 'cycle', 'operational_setting_1', 'operational_setting_2', 'operational_setting_3'\n",
    "] + [f'sensor_measurement_{i}' for i in range(1, 22)]\n",
    "\n",
    "df = pd.read_csv('C:/Users/ammar/SHAP_ML/datasets/train_FD001.txt', sep='\\s+', header=None, names=column_names)\n",
    "\n",
    "# 3. Add RUL (Remaining Useful Life)\n",
    "rul = df.groupby('unit')['cycle'].max().reset_index()\n",
    "rul.columns = ['unit', 'max_cycle']\n",
    "df = df.merge(rul, on='unit')\n",
    "df['RUL'] = df['max_cycle'] - df['cycle']\n",
    "df.drop(columns=['max_cycle'], inplace=True)\n",
    "\n",
    "# 4. Drop low-variance/redundant columns\n",
    "drop_cols = ['operational_setting_3', 'sensor_measurement_1', 'sensor_measurement_5', \n",
    "             'sensor_measurement_10', 'sensor_measurement_16', 'sensor_measurement_18', \n",
    "             'sensor_measurement_19']\n",
    "df.drop(columns=drop_cols, inplace=True)\n",
    "\n",
    "# 5. Prepare features and target\n",
    "X = df.drop(columns=['unit', 'cycle', 'RUL'])\n",
    "y = df['RUL']\n",
    "\n",
    "# 6. Train/test split (by unit)\n",
    "units = df['unit'].unique()\n",
    "train_units, test_units = train_test_split(units, test_size=0.2, random_state=42)\n",
    "\n",
    "X_train = df[df['unit'].isin(train_units)].drop(columns=['unit', 'cycle', 'RUL'])\n",
    "y_train = df[df['unit'].isin(train_units)]['RUL']\n",
    "\n",
    "X_test = df[df['unit'].isin(test_units)].drop(columns=['unit', 'cycle', 'RUL'])\n",
    "y_test = df[df['unit'].isin(test_units)]['RUL']\n",
    "\n",
    "# 7. Train Random Forest model\n",
    "rf_model = RandomForestRegressor(n_estimators=100, random_state=42)\n",
    "rf_model.fit(X_train, y_train)\n",
    "\n",
    "# 8. Predict and evaluate\n",
    "y_pred = rf_model.predict(X_test)\n",
    "print(\"MAE:\", mean_absolute_error(y_test, y_pred))\n",
    "rmse = np.sqrt(mean_squared_error(y_test, y_pred))\n",
    "print(\"RMSE:\", rmse)\n",
    "print(\"R² Score:\", r2_score(y_test, y_pred))\n",
    "\n",
    "# 9. Save model\n",
    "joblib.dump(rf_model, 'C:/Users/ammar/SHAP_ML/models/cmaps_randomforest.pkl')"
   ]
  },
  {
   "cell_type": "code",
   "execution_count": null,
   "id": "d574812d-b3d5-479e-b1fe-4ee594ad1dce",
   "metadata": {
    "editable": true,
    "slideshow": {
     "slide_type": ""
    },
    "tags": []
   },
   "outputs": [],
   "source": []
  }
 ],
 "metadata": {
  "kernelspec": {
   "display_name": "Python [conda env:base] *",
   "language": "python",
   "name": "conda-base-py"
  },
  "language_info": {
   "codemirror_mode": {
    "name": "ipython",
    "version": 3
   },
   "file_extension": ".py",
   "mimetype": "text/x-python",
   "name": "python",
   "nbconvert_exporter": "python",
   "pygments_lexer": "ipython3",
   "version": "3.13.5"
  }
 },
 "nbformat": 4,
 "nbformat_minor": 5
}
