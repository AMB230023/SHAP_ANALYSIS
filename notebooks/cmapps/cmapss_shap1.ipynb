{
 "cells": [
  {
   "cell_type": "code",
   "execution_count": 1,
   "id": "24048185-97a0-4f9c-9c8e-5fc10f6c05b9",
   "metadata": {
    "panel-layout": {
     "height": 36.40625,
     "visible": true,
     "width": 100
    }
   },
   "outputs": [
    {
     "data": {
      "text/plain": [
       "['C:/Users/ammar/SHAP_ML/models/cmaps_shap_values.pkl']"
      ]
     },
     "execution_count": 1,
     "metadata": {},
     "output_type": "execute_result"
    }
   ],
   "source": [
    "# 1. Imports\n",
    "import pandas as pd\n",
    "import joblib\n",
    "import shap\n",
    "from sklearn.model_selection import train_test_split\n",
    "\n",
    "# 2. Load and prepare CMAPSS data\n",
    "column_names = [\n",
    "    'unit', 'cycle', 'operational_setting_1', 'operational_setting_2', 'operational_setting_3'\n",
    "] + [f'sensor_measurement_{i}' for i in range(1, 22)]\n",
    "\n",
    "df = pd.read_csv('C:/Users/ammar/SHAP_ML/datasets/train_FD001.txt', sep='\\s+', header=None, names=column_names)\n",
    "\n",
    "rul = df.groupby('unit')['cycle'].max().reset_index()\n",
    "rul.columns = ['unit', 'max_cycle']\n",
    "df = df.merge(rul, on='unit')\n",
    "df['RUL'] = df['max_cycle'] - df['cycle']\n",
    "df.drop(columns=['max_cycle'], inplace=True)\n",
    "\n",
    "drop_cols = ['operational_setting_3', 'sensor_measurement_1', 'sensor_measurement_5', \n",
    "             'sensor_measurement_10', 'sensor_measurement_16', 'sensor_measurement_18', \n",
    "             'sensor_measurement_19']\n",
    "df.drop(columns=drop_cols, inplace=True)\n",
    "\n",
    "X = df.drop(columns=['unit', 'cycle', 'RUL'])\n",
    "y = df['RUL']\n",
    "\n",
    "# 3. Split\n",
    "units = df['unit'].unique()\n",
    "train_units, test_units = train_test_split(units, test_size=0.2, random_state=42)\n",
    "\n",
    "X_test = df[df['unit'].isin(test_units)].drop(columns=['unit', 'cycle', 'RUL'])\n",
    "\n",
    "# Optional: subsample for speed\n",
    "X_sample = X_test.sample(n=500, random_state=42)\n",
    "\n",
    "# 4. Load models\n",
    "xgb_model = joblib.load('C:/Users/ammar/SHAP_ML/models/cmaps_xgboost.pkl')\n",
    "rf_model = joblib.load('C:/Users/ammar/SHAP_ML/models/cmaps_randomforest.pkl')\n",
    "\n",
    "# 5. Compute SHAP values\n",
    "xgb_explainer = shap.Explainer(xgb_model)\n",
    "xgb_shap_values = xgb_explainer(X_sample)\n",
    "\n",
    "rf_explainer = shap.Explainer(rf_model)\n",
    "rf_shap_values = rf_explainer(X_sample)\n",
    "\n",
    "# 6. Save for visualization\n",
    "joblib.dump((X_sample, xgb_shap_values, rf_shap_values), 'C:/Users/ammar/SHAP_ML/models/cmaps_shap_values.pkl')"
   ]
  },
  {
   "cell_type": "code",
   "execution_count": null,
   "id": "b9b4c9f3-363c-4d0d-a09e-6c03657a7f4f",
   "metadata": {},
   "outputs": [],
   "source": []
  }
 ],
 "metadata": {
  "kernelspec": {
   "display_name": "Python [conda env:base] *",
   "language": "python",
   "name": "conda-base-py"
  },
  "language_info": {
   "codemirror_mode": {
    "name": "ipython",
    "version": 3
   },
   "file_extension": ".py",
   "mimetype": "text/x-python",
   "name": "python",
   "nbconvert_exporter": "python",
   "pygments_lexer": "ipython3",
   "version": "3.13.5"
  },
  "panel-cell-order": [
   "24048185-97a0-4f9c-9c8e-5fc10f6c05b9"
  ]
 },
 "nbformat": 4,
 "nbformat_minor": 5
}
